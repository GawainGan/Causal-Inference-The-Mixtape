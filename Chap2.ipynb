{
 "cells": [
  {
   "cell_type": "markdown",
   "metadata": {},
   "source": [
    "# 2.13 Oridinary least squares"
   ]
  },
  {
   "cell_type": "code",
   "execution_count": null,
   "metadata": {},
   "outputs": [],
   "source": [
    "import numpy as np \n",
    "import pandas as pd \n",
    "import statsmodels.api as sm \n",
    "import statsmodels.formula.api as smf \n",
    "from itertools import combinations \n",
    "import plotnine as p\n",
    "\n",
    "# read data\n",
    "import ssl\n",
    "ssl._create_default_https_context = ssl._create_unverified_context\n",
    "def read_data(file): \n",
    "    return pd.read_stata(\"https://github.com/scunning1975/mixtape/raw/master/\" + file)\n",
    "\n",
    "np.random.seed(1)\n",
    "\n",
    "tb = pd.DataFrame({\n",
    "    'x': np.random.normal(size=10000),\n",
    "    'u': np.random.normal(size=10000)})\n",
    "tb['y'] = 5.5*tb['x'].values + 12*tb['u'].values\n",
    "\n",
    "reg_tb = sm.OLS.from_formula('y ~ x', data=tb).fit()\n",
    "reg_tb.summary()\n",
    "\n",
    "\n",
    "tb['yhat1'] = reg_tb.predict(tb)\n",
    "tb['yhat2'] = 0.1114 + 5.6887*tb['x']\n",
    "tb['uhat1'] = reg_tb.resid\n",
    "tb['uhat2'] = tb['y'] - tb['yhat2']\n",
    "\n",
    "tb.describe()\n",
    "\n",
    "p.ggplot(tb, p.aes(x='x', y='y')) +\\\n",
    "    p.ggtitle(\"OLS Regression Line\") +\\\n",
    "    p.geom_point(size = 0.05, color = \"black\", alpha = 0.5) +\\\n",
    "    p.geom_smooth(p.aes(x='x', y='y'), method = \"lm\", color = \"black\") +\\\n",
    "    p.annotate(\"text\", x = -1.5, y = 30, color = \"red\", \n",
    "             label = \"Intercept = {}\".format(-0.0732608)) +\\\n",
    "    p.annotate(\"text\", x = 1.5, y = -30, color = \"blue\", \n",
    "             label = \"Slope = {}\".format(5.685033))"
   ]
  }
 ],
 "metadata": {
  "language_info": {
   "name": "python"
  }
 },
 "nbformat": 4,
 "nbformat_minor": 2
}
